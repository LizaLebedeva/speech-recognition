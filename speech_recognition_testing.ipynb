{
 "cells": [
  {
   "cell_type": "code",
   "execution_count": null,
   "id": "infinite-conspiracy",
   "metadata": {},
   "outputs": [],
   "source": [
    "# Notebook tests functionality of speech_recognition library for Russian language (for mic input and audio files)\n",
    "# Main part is about transcribing long .m4a files."
   ]
  },
  {
   "cell_type": "code",
   "execution_count": null,
   "id": "approved-internet",
   "metadata": {},
   "outputs": [],
   "source": [
    "# I could install speech_recognition only from wheel (pip install didn't work)\n",
    "# Also, it required PyAudio which in turn required portaudio (brew install portaudio)"
   ]
  },
  {
   "cell_type": "code",
   "execution_count": null,
   "id": "floppy-membership",
   "metadata": {},
   "outputs": [],
   "source": [
    "# test mic input\n",
    "\n",
    "import speech_recognition as sr\n",
    "\n",
    "r = sr.Recognizer()\n",
    "\n",
    "with sr.Microphone() as source:\n",
    "    print(\"Скажите что-нибудь:\")\n",
    "    audio = r.listen(source,timeout=1,phrase_time_limit=5)\n",
    "\n",
    "try:\n",
    "     print(r.recognize_google(audio, language=\"ru-RU\"))\n",
    "except sr.UnknownValueError:\n",
    "    print(\"Не расслышал фразу\")\n",
    "except sr.RequestError as e:\n",
    "    print(\"Ошибка сервиса; {0}\".format(e))"
   ]
  },
  {
   "cell_type": "code",
   "execution_count": null,
   "id": "daily-boutique",
   "metadata": {},
   "outputs": [],
   "source": [
    "# Convert m4a extension files to wav extension files\n",
    "      \n",
    "import os\n",
    "import argparse\n",
    "\n",
    "from pydub import AudioSegment\n",
    "\n",
    "formats_to_convert = ['.m4a']\n",
    "\n",
    "m4a_folder = \"recordings_m4a/\"\n",
    "\n",
    "for (dirpath, dirnames, filenames) in os.walk(m4a_folder):\n",
    "    for filename in filenames:\n",
    "        if filename.endswith(tuple(formats_to_convert)):\n",
    "\n",
    "            filepath = dirpath + '/' + filename\n",
    "            (path, file_extension) = os.path.splitext(filepath)\n",
    "            file_extension_final = file_extension.replace('.', '')\n",
    "            try:\n",
    "                track = AudioSegment.from_file(filepath,\n",
    "                        file_extension_final)\n",
    "                wav_filename = filename.replace(file_extension_final, 'wav')\n",
    "                wav_path = dirpath + '/' + wav_filename\n",
    "                print('CONVERTING: ' + str(filepath))\n",
    "                file_handle = track.export(wav_path, format='wav')\n",
    "                os.remove(filepath)\n",
    "            except:\n",
    "                print(\"ERROR CONVERTING \" + str(filepath))\n",
    "\n",
    "# Rename folder M4a_files as wav_files\n",
    "# !mv recordings_m4a wav_files"
   ]
  },
  {
   "cell_type": "code",
   "execution_count": null,
   "id": "temporal-advancement",
   "metadata": {},
   "outputs": [],
   "source": [
    "# test one audio file\n",
    "\n",
    "r = sr.Recognizer()\n",
    "\n",
    "file = \"42/0_New Recording 42.wav\"\n",
    "\n",
    "with sr.WavFile(file) as source:              # use \"test.wav\" as the audio source\n",
    "    audio = r.record(source)                        # extract audio data from the file\n",
    "\n",
    "try:\n",
    "    list = r.recognize_google(audio, language=\"ru-RU\")                 # generate a list of possible transcriptions\n",
    "    print(\"Possible transcriptions:\")\n",
    "#     for prediction in list:\n",
    "#         print(\" \" + prediction[\"text\"] + \" (\" + str(prediction[\"confidence\"]*100) + \"%)\") - it doesn't work for Russian language\n",
    "    print(list)\n",
    "\n",
    "except LookupError:                                 # speech is unintelligible\n",
    "    print(\"Could not understand audio\")"
   ]
  },
  {
   "cell_type": "code",
   "execution_count": null,
   "id": "focal-hanging",
   "metadata": {},
   "outputs": [],
   "source": [
    "# for short files - all in one folder\n",
    "from tqdm import tqdm\n",
    "transcriptions = []\n",
    "\n",
    "folder = 'recordings_wav'\n",
    "print(f'Folder: {folder}')\n",
    "folder = str(folder)\n",
    "\n",
    "for (dirpath, dirnames, filenames) in tqdm(os.walk(f\"{folder}/\")):\n",
    "#         filenames sort\n",
    "    for filename in filenames:\n",
    "        if filename.endswith('wav'):\n",
    "            r = sr.Recognizer()\n",
    "            print(f'Transcribing {filename}...')\n",
    "            with sr.WavFile(f\"{folder}/{filename}\") as source:              # use \"test.wav\" as the audio source\n",
    "                audio = r.record(source)                        # extract audio data from the file\n",
    "\n",
    "            try:\n",
    "                transcription = r.recognize_google(audio, language=\"ru-RU\")                 # generate a list of possible transcriptions\n",
    "                transcriptions.append([filename, transcription])\n",
    "                print(f'{filename} saved!')\n",
    "            except sr.UnknownValueError:\n",
    "                print(\"No sound\")\n",
    "            except LookupError:                                 # speech is unintelligible\n",
    "                print(\"Could not understand audio\")\n",
    "\n",
    "print('')\n",
    "\n",
    "\n",
    "text_dict = {}\n",
    "for i in transcriptions:\n",
    "    text_dict[i[0]] = i[1]\n",
    "    \n",
    "text_dict"
   ]
  },
  {
   "cell_type": "code",
   "execution_count": null,
   "id": "coordinated-singing",
   "metadata": {},
   "outputs": [],
   "source": [
    "# Google API fails ('Bad error') for large files\n",
    "# split large file into 2-min files (need to test what is the largest size possible)\n",
    "\n",
    "from pydub import AudioSegment\n",
    "import math\n",
    "\n",
    "class SplitWavAudioMubin():\n",
    "    def __init__(self, folder, filename):\n",
    "        self.folder = folder\n",
    "        self.filename = filename\n",
    "        self.filepath = folder + '/' + filename\n",
    "        \n",
    "        self.audio = AudioSegment.from_wav(self.filepath)\n",
    "    \n",
    "    def get_duration(self):\n",
    "        return self.audio.duration_seconds\n",
    "    \n",
    "    def single_split(self, from_min, to_min, split_filename):\n",
    "        t1 = from_min * 60 * 1000\n",
    "        t2 = to_min * 60 * 1000\n",
    "        split_audio = self.audio[t1:t2]\n",
    "        split_audio.export(self.folder + '/' + split_filename, format=\"wav\")\n",
    "        \n",
    "    def multiple_split(self, min_per_split):\n",
    "        total_mins = math.ceil(self.get_duration() / 60)\n",
    "        for i in range(0, total_mins, min_per_split):\n",
    "            split_fn = str(i) + '_' + self.filename\n",
    "            self.single_split(i, i+min_per_split, split_fn)\n",
    "            print(str(i) + ' Done')\n",
    "            if i == total_mins - min_per_split:\n",
    "                print('All splited successfully')\n"
   ]
  },
  {
   "cell_type": "code",
   "execution_count": null,
   "id": "innocent-microphone",
   "metadata": {
    "scrolled": true
   },
   "outputs": [],
   "source": [
    "from tqdm import tqdm\n",
    "transcriptions = []\n",
    "\n",
    "folders = [39, 40, 41, 42] # each long audio file in separate folder\n",
    "\n",
    "for folder in folders:\n",
    "    print(f'Folder: {folder}')\n",
    "    folder = str(folder)\n",
    "    file = f'New Recording {folder}.wav'\n",
    "    split_wav = SplitWavAudioMubin(folder, file)\n",
    "    split_wav.multiple_split(min_per_split=2)\n",
    "    \n",
    "    for (dirpath, dirnames, filenames) in tqdm(os.walk(f\"{folder}/\")):\n",
    "#         filenames sort\n",
    "        for filename in filenames:\n",
    "\n",
    "            if filename.endswith('wav') and filename[0].isdigit():\n",
    "                r = sr.Recognizer()\n",
    "                print(f'Transcribing {filename}...')\n",
    "                with sr.WavFile(f\"{folder}/{filename}\") as source:              # use \"test.wav\" as the audio source\n",
    "                    audio = r.record(source)                        # extract audio data from the file\n",
    "\n",
    "                try:\n",
    "                    transcription = r.recognize_google(audio, language=\"ru-RU\")                 # generate a list of possible transcriptions\n",
    "                    transcriptions.append([folder, filename[:2], transcription])\n",
    "                    print(f'{folder} - {filename[:2]} saved!')\n",
    "                except sr.UnknownValueError:\n",
    "                    print(\"No sound\")\n",
    "                except LookupError:                                 # speech is unintelligible\n",
    "                    print(\"Could not understand audio\")\n",
    "                \n",
    "    print('')\n",
    "        "
   ]
  },
  {
   "cell_type": "code",
   "execution_count": null,
   "id": "driven-vinyl",
   "metadata": {
    "scrolled": true
   },
   "outputs": [],
   "source": [
    "import pandas as pd\n",
    "df = pd.DataFrame(transcriptions, columns=['rec', 'N', 'text'])\n",
    "df['N'] = df.N.apply(lambda x: int(x.split('_')[0]))\n",
    "\n",
    "df = df.sort_values(['rec', 'N']).reset_index(drop=True)"
   ]
  },
  {
   "cell_type": "code",
   "execution_count": null,
   "id": "offensive-rover",
   "metadata": {
    "scrolled": true
   },
   "outputs": [],
   "source": [
    "df"
   ]
  },
  {
   "cell_type": "code",
   "execution_count": null,
   "id": "strategic-bahrain",
   "metadata": {},
   "outputs": [],
   "source": [
    "# concatinate transcriptions of small file parts into one string for each file\n",
    "\n",
    "rec_dict = {}\n",
    "for rec in df.rec.unique():\n",
    "    print(rec)\n",
    "    print('-')\n",
    "    df_rec = df[df.rec==rec]\n",
    "    text = ''\n",
    "    for (i, t) in df_rec.iterrows():\n",
    "        print(t['N'])\n",
    "        text_row = t['text']\n",
    "        text = text + text_row\n",
    "    rec_dict[rec] = text\n",
    "    print('')"
   ]
  },
  {
   "cell_type": "code",
   "execution_count": null,
   "id": "baking-converter",
   "metadata": {},
   "outputs": [],
   "source": [
    "rec_dict"
   ]
  },
  {
   "cell_type": "code",
   "execution_count": null,
   "id": "heated-intent",
   "metadata": {},
   "outputs": [],
   "source": []
  },
  {
   "cell_type": "code",
   "execution_count": null,
   "id": "careful-concrete",
   "metadata": {},
   "outputs": [],
   "source": []
  },
  {
   "cell_type": "code",
   "execution_count": null,
   "id": "human-adams",
   "metadata": {},
   "outputs": [],
   "source": []
  }
 ],
 "metadata": {
  "hide_input": false,
  "kernelspec": {
   "display_name": "Python 3 (ipykernel)",
   "language": "python",
   "name": "python3"
  },
  "language_info": {
   "codemirror_mode": {
    "name": "ipython",
    "version": 3
   },
   "file_extension": ".py",
   "mimetype": "text/x-python",
   "name": "python",
   "nbconvert_exporter": "python",
   "pygments_lexer": "ipython3",
   "version": "3.7.10"
  },
  "varInspector": {
   "cols": {
    "lenName": 16,
    "lenType": 16,
    "lenVar": 40
   },
   "kernels_config": {
    "python": {
     "delete_cmd_postfix": "",
     "delete_cmd_prefix": "del ",
     "library": "var_list.py",
     "varRefreshCmd": "print(var_dic_list())"
    },
    "r": {
     "delete_cmd_postfix": ") ",
     "delete_cmd_prefix": "rm(",
     "library": "var_list.r",
     "varRefreshCmd": "cat(var_dic_list()) "
    }
   },
   "types_to_exclude": [
    "module",
    "function",
    "builtin_function_or_method",
    "instance",
    "_Feature"
   ],
   "window_display": false
  }
 },
 "nbformat": 4,
 "nbformat_minor": 5
}
